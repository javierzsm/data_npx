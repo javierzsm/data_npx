{
 "cells": [
  {
   "cell_type": "code",
   "execution_count": 1,
   "metadata": {},
   "outputs": [],
   "source": [
    "import numpy as np\n",
    "import matplotlib.pyplot as plt\n",
    "\n"
   ]
  },
  {
   "cell_type": "code",
   "execution_count": 4,
   "metadata": {},
   "outputs": [],
   "source": [
    "data_path = r'Z:\\raw\\Javier Zorrilla\\neurop_data\\Kilosort_spike_sorting_results\\Ts65Dn_145\\\\'\n",
    "list_clusters = np.load(data_path + 'cert_good_clusters.npy')\n",
    "spike_times = np.load(data_path + 'spike_times.npy')\n",
    "spike_clusters = np.load(data_path + 'spike_clusters.npy')"
   ]
  },
  {
   "cell_type": "code",
   "execution_count": 9,
   "metadata": {},
   "outputs": [],
   "source": [
    "epoch = (3000, 4000)\n",
    "fs = 30000.\n",
    "\n",
    "sp_trains = np.zeros((1000, len(list_clusters)))\n",
    "\n",
    "for i, cluster in enumerate(list_clusters[:3]):\n",
    "    sp_train = spike_times[spike_clusters==cluster] / fs # change samples into time (s)\n",
    "    sp_train = sp_train[np.logical_and(sp_train >= epoch[0], sp_train < epoch[1])] # restrict selection to epoch\n",
    "    sp_train = sp_train - epoch[0] #reset t0\n",
    "    binned_sp_train, _ = np.histogram(sp_train, range=(0, 999), bins=1000) # bin spike trian using np.histogram\n",
    "    sp_trains[:, i] = binned_sp_train\n"
   ]
  },
  {
   "cell_type": "code",
   "execution_count": 12,
   "metadata": {},
   "outputs": [
    {
     "data": {
      "text/plain": [
       "(1000, 235)"
      ]
     },
     "execution_count": 12,
     "metadata": {},
     "output_type": "execute_result"
    }
   ],
   "source": [
    "sp_trains.shape"
   ]
  },
  {
   "cell_type": "code",
   "execution_count": null,
   "metadata": {},
   "outputs": [],
   "source": []
  }
 ],
 "metadata": {
  "kernelspec": {
   "display_name": "npx",
   "language": "python",
   "name": "npx"
  },
  "language_info": {
   "codemirror_mode": {
    "name": "ipython",
    "version": 3
   },
   "file_extension": ".py",
   "mimetype": "text/x-python",
   "name": "python",
   "nbconvert_exporter": "python",
   "pygments_lexer": "ipython3",
   "version": "3.10.13"
  }
 },
 "nbformat": 4,
 "nbformat_minor": 2
}
